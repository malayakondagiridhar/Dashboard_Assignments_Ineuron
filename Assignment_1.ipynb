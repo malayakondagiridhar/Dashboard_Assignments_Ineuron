{
 "cells": [
  {
   "cell_type": "markdown",
   "id": "d4fcb406-43bc-49dd-ad41-bfb41bce919b",
   "metadata": {},
   "source": [
    "1st QUESTION"
   ]
  },
  {
   "cell_type": "markdown",
   "id": "e21f1ef8-71d5-4cd7-82fc-aebb4b087458",
   "metadata": {},
   "source": [
    "Values : “hello”,  -87.8, 6 \n",
    "\n"
   ]
  },
  {
   "cell_type": "markdown",
   "id": "c8ec34bc-e497-45e5-8082-78f8e1fc05b4",
   "metadata": {},
   "source": [
    "Expressions: *,  -,  /,  +"
   ]
  },
  {
   "cell_type": "code",
   "execution_count": null,
   "id": "782784e9-96ff-4b88-97cb-a0e248f05f33",
   "metadata": {},
   "outputs": [],
   "source": []
  },
  {
   "cell_type": "markdown",
   "id": "9695b9cb-f353-4e85-b7a3-21c40ee01523",
   "metadata": {},
   "source": [
    "2nd QUESTION"
   ]
  },
  {
   "cell_type": "raw",
   "id": "7aa7edd0-7152-4377-9577-887e73c18027",
   "metadata": {},
   "source": [
    "String:\n",
    "\n",
    "A string is a data type used to represent a sequence of characters. \n",
    "It is typically used to store and manipulate textual data.\n",
    "Strings are enclosed in quotation marks (single or double) to differentiate them from other types of data.\n",
    "Ex : \"hello\", 'world', \"42\"\n",
    "\n",
    "Variable:\n",
    "\n",
    "A variable is a named storage location in a computer's memory that can hold a value of a specific type.\n",
    "Variables are used to store and manipulate data in a program.\n",
    "They allow us to assign values to them, update the values, and use them in expressions and calculations.\n",
    "The value stored in a variable can be of different types, such as strings, numbers, booleans, etc\n",
    "Ex : name = \"Alice\"  , Age =21"
   ]
  },
  {
   "cell_type": "code",
   "execution_count": null,
   "id": "aa2e0d21-158c-4402-9973-90c398093b8e",
   "metadata": {},
   "outputs": [],
   "source": []
  },
  {
   "cell_type": "markdown",
   "id": "2d770e49-2577-4a0b-a18a-4ad6a2eca9f6",
   "metadata": {},
   "source": [
    "3rd QUESTION"
   ]
  },
  {
   "cell_type": "raw",
   "id": "a0bab78e-fe2c-4115-85a6-cbcbec11c1ee",
   "metadata": {},
   "source": [
    "Integer (int):\n",
    "The integer data type represents whole numbers, both positive and negative, without any fractional or decimal part.\n",
    "Ex : -3, 0, 42, 1000\n",
    "\n",
    "String (str):\n",
    "The string data type represents a sequence of characters, enclosed in either single quotes (' ') or double quotes (\" \").\n",
    "Strings are used to represent textual data, such as names, sentences, or any other sequence of characters.\n",
    "Ex : \"Hello, world!\", 'Python is awesome', \"42\"\n",
    "\n",
    "List (list):\n",
    "The list data type is an ordered collection of items enclosed in square brackets [ ] and separated by commas.\n",
    "Lists can contain elements of different types, such as integers, strings, or even other lists.\n",
    "Lists are mutable, meaning their elements can be modified or updated after they are created.\n",
    "Ex : [1, 2, 3], [\"apple\", \"banana\", \"orange\"], [1, \"two\", [3, 4, 5]]"
   ]
  },
  {
   "cell_type": "code",
   "execution_count": null,
   "id": "03bf2440-d479-4d30-b0c9-e751d846858c",
   "metadata": {},
   "outputs": [],
   "source": []
  },
  {
   "cell_type": "markdown",
   "id": "e3038aad-8d6f-4aad-aa58-c803ea2b8456",
   "metadata": {},
   "source": [
    "4th QUESTION"
   ]
  },
  {
   "cell_type": "raw",
   "id": "0dec955a-2547-44c9-9793-217e59db3081",
   "metadata": {},
   "source": [
    "An expression is a combination of variables, values, operators, and operands that evaluates to a single value.It can be as simple as a single value or variable, or it can be a complex combination of multiple components\n",
    "\n",
    "EX :a = 7\n",
    "    b = 18\n",
    "    c = a+b ==>it is a expression. and + is the operator and a,b are operands"
   ]
  },
  {
   "cell_type": "code",
   "execution_count": null,
   "id": "e4028932-7ec5-4221-b1b6-e13509c4d027",
   "metadata": {},
   "outputs": [],
   "source": []
  },
  {
   "cell_type": "markdown",
   "id": "dd9f0ab6-8b18-475a-88b7-cee9c683d86f",
   "metadata": {},
   "source": [
    "5th QUESTION"
   ]
  },
  {
   "cell_type": "raw",
   "id": "381bd7e0-3787-428a-b586-8fc27a8d4616",
   "metadata": {},
   "source": [
    "An expression is a combination of variables, values, operators, and operands that evaluates to a single value.\n",
    "Ex : 2 + 3, x * y, len(\"hello\"), a > b\n",
    "\n",
    "A statement is a complete line or block of code that performs an action or controls the flow of execution.Statements are used to carry out specific tasks or operations, such as assignments, loops, conditionals, function declarations, and more.\n",
    "Ex : spam = 10, if x > 0:, for item in my_list:, def my_function():"
   ]
  },
  {
   "cell_type": "code",
   "execution_count": null,
   "id": "83e02019-8017-4e55-a914-4f213043d9b5",
   "metadata": {},
   "outputs": [],
   "source": []
  },
  {
   "cell_type": "markdown",
   "id": "005bc343-3a42-42c3-bdcd-511ce5bd351f",
   "metadata": {},
   "source": [
    "6th QUESTION"
   ]
  },
  {
   "cell_type": "raw",
   "id": "54086363-52e6-4085-a98d-9cd3164e73a1",
   "metadata": {},
   "source": [
    "The variable bacon will still contain the value 22. Because in the given code bacon+1 evalutes the value but it doesnt assign to any variable. so the bacon variable still consists of value 22"
   ]
  },
  {
   "cell_type": "raw",
   "id": "39e7af88-78df-4267-a43a-980810772c8a",
   "metadata": {},
   "source": []
  },
  {
   "cell_type": "markdown",
   "id": "54224ea7-6e51-453b-9f8c-8556579d8bce",
   "metadata": {},
   "source": [
    "7th QUESTION"
   ]
  },
  {
   "cell_type": "raw",
   "id": "0513b186-c9ba-44b1-8529-4b848394586e",
   "metadata": {},
   "source": [
    "'spam' + 'spamspam' gives the output as ==> 'spamspamspam'\n",
    "'spam' * 3 gives the output as ==> 'spamspamspam'\n",
    "so both results same output"
   ]
  },
  {
   "cell_type": "code",
   "execution_count": null,
   "id": "5803414f-e277-4067-b685-7d2eb2b81fba",
   "metadata": {},
   "outputs": [],
   "source": []
  },
  {
   "cell_type": "markdown",
   "id": "d79287c5-9415-4861-995f-8cce9c7cd08e",
   "metadata": {},
   "source": [
    "8th QUESTION"
   ]
  },
  {
   "cell_type": "raw",
   "id": "dd11d7cd-64f3-4958-99ad-97a786e7baa0",
   "metadata": {},
   "source": [
    "eggs is valid because it starts with a letter and only contains letters. 100 is not a valid variable name because it starts with a number.Variable names cannot start with a number in Python"
   ]
  },
  {
   "cell_type": "code",
   "execution_count": null,
   "id": "320b2db8-8e19-4573-ba27-b19ee3596c22",
   "metadata": {},
   "outputs": [],
   "source": []
  },
  {
   "cell_type": "markdown",
   "id": "39cdccd4-753e-475e-bb33-1360be151f97",
   "metadata": {},
   "source": [
    "9th QUESTION"
   ]
  },
  {
   "cell_type": "raw",
   "id": "09c36740-c8ab-4e7d-9e31-7d2b92dd35d9",
   "metadata": {},
   "source": [
    "str(): This function can be used to convert a value to its string representation. It takes a single argument and returns a string version of that value."
   ]
  },
  {
   "cell_type": "code",
   "execution_count": 2,
   "id": "95e6c8df-bbc5-4776-b68c-2cca48899674",
   "metadata": {},
   "outputs": [
    {
     "name": "stdout",
     "output_type": "stream",
     "text": [
      "42\n"
     ]
    }
   ],
   "source": [
    "value = 42\n",
    "string_value = str(value)\n",
    "print(string_value)  # Output: \"42\""
   ]
  },
  {
   "cell_type": "raw",
   "id": "8296e4ae-f593-4a5c-a84b-a3b392f9f6af",
   "metadata": {},
   "source": [
    "float(): This function can be used to convert a value to a floating-point number. It takes a single argument and returns a floating-point representation of that value if possible. If the argument cannot be converted to a floating-point number, it raises a ValueError."
   ]
  },
  {
   "cell_type": "code",
   "execution_count": 4,
   "id": "528ce674-f8a6-4e96-8d1d-da5cfa2fc07a",
   "metadata": {},
   "outputs": [
    {
     "name": "stdout",
     "output_type": "stream",
     "text": [
      "3.14\n"
     ]
    }
   ],
   "source": [
    "value = \"3.14\"\n",
    "float_value = float(value)\n",
    "print(float_value)  # Output: 3.14"
   ]
  },
  {
   "cell_type": "raw",
   "id": "7f298d3b-5256-4b01-be77-0abd360c3894",
   "metadata": {},
   "source": [
    "int(): This function can be used to convert a value to an integer. It takes a single argument and returns an integer representation of that value if possible. If the argument cannot be converted to an integer, it raises a ValueError"
   ]
  },
  {
   "cell_type": "code",
   "execution_count": 5,
   "id": "3d21ecd1-c7f7-4fe3-a0f3-70803c600fe0",
   "metadata": {},
   "outputs": [
    {
     "name": "stdout",
     "output_type": "stream",
     "text": [
      "42\n"
     ]
    }
   ],
   "source": [
    "value = \"42\"\n",
    "integer_value = int(value)\n",
    "print(integer_value)  # Output: 42"
   ]
  },
  {
   "cell_type": "code",
   "execution_count": null,
   "id": "1b853b82-6a2e-4452-a360-05ca9c6f3710",
   "metadata": {},
   "outputs": [],
   "source": []
  },
  {
   "cell_type": "markdown",
   "id": "f1ecc07e-a386-481f-812d-d16017a46d8e",
   "metadata": {},
   "source": [
    "10TH QUESTION"
   ]
  },
  {
   "cell_type": "markdown",
   "id": "55bd6cb8-e14c-4a73-aaff-fe563e9ec832",
   "metadata": {},
   "source": [
    "It causes an error because it tries to concatenate a string ('I have eaten ') with an integer (99) using the + operator.\n",
    "\n",
    "To fix the error and correctly concatenate the string and integer, we can convert the integer to a string using the str() function."
   ]
  },
  {
   "cell_type": "code",
   "execution_count": 6,
   "id": "6f97b05a-7a44-4a06-a7f1-be0600666269",
   "metadata": {},
   "outputs": [
    {
     "data": {
      "text/plain": [
       "'I have eaten 99 burritos.'"
      ]
     },
     "execution_count": 6,
     "metadata": {},
     "output_type": "execute_result"
    }
   ],
   "source": [
    "'I have eaten ' + str(99) + ' burritos.'"
   ]
  },
  {
   "cell_type": "code",
   "execution_count": null,
   "id": "ac0e87d1-ba5e-4239-b519-0035e857be0d",
   "metadata": {},
   "outputs": [],
   "source": []
  }
 ],
 "metadata": {
  "kernelspec": {
   "display_name": "Python 3 (ipykernel)",
   "language": "python",
   "name": "python3"
  },
  "language_info": {
   "codemirror_mode": {
    "name": "ipython",
    "version": 3
   },
   "file_extension": ".py",
   "mimetype": "text/x-python",
   "name": "python",
   "nbconvert_exporter": "python",
   "pygments_lexer": "ipython3",
   "version": "3.10.6"
  }
 },
 "nbformat": 4,
 "nbformat_minor": 5
}
