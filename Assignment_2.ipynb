{
 "cells": [
  {
   "cell_type": "markdown",
   "id": "428e23bc-17d1-4d7f-b1cc-6c84e38409d4",
   "metadata": {},
   "source": [
    "1.What are the two values of the Boolean data type? How do you write them?"
   ]
  },
  {
   "cell_type": "markdown",
   "id": "082b870e-8d5c-45c7-ac7f-4c8afc9fed55",
   "metadata": {},
   "source": [
    "Two values of the Boolean data type and their representation:\n",
    "\n",
    "True: Represents a logical true value. It is used to indicate that a condition or statement is true.\n",
    "\n",
    "False: Represents a logical false value. It is used to indicate that a condition or statement is false"
   ]
  },
  {
   "cell_type": "code",
   "execution_count": 3,
   "id": "ce1c7d0e-f7b3-48f0-bba8-63ca6b0dfb81",
   "metadata": {},
   "outputs": [
    {
     "name": "stdout",
     "output_type": "stream",
     "text": [
      "Hello World i am Giri\n",
      "Hello World i am Giri\n",
      "Hello World i am Giri\n",
      "Hello World i am Giri\n",
      "Hello World i am Giri\n"
     ]
    }
   ],
   "source": [
    "flag = True\n",
    "counter = 0\n",
    "\n",
    "while flag:\n",
    "    print(\"Hello World i am Giri\")\n",
    "    counter += 1\n",
    "    if counter == 5:\n",
    "        flag = False"
   ]
  },
  {
   "cell_type": "code",
   "execution_count": null,
   "id": "b2bc43e3-00aa-4b33-a6ff-1dc33e54d338",
   "metadata": {},
   "outputs": [],
   "source": []
  },
  {
   "cell_type": "markdown",
   "id": "1a1b34f6-cc96-4357-89f0-c0f5aa217180",
   "metadata": {},
   "source": [
    "2.What are the three different types of Boolean operators?"
   ]
  },
  {
   "cell_type": "markdown",
   "id": "728423dd-e333-4005-95c5-b3ac7d733cc6",
   "metadata": {},
   "source": [
    "Logical AND (and): Returns True if both operands are True, otherwise returns False.\n",
    "\n",
    "Logical OR (or): Returns True if at least one of the operands is True, otherwise returns False.\n",
    "\n",
    "Logical NOT (not): Returns the opposite of the operand's Boolean value. If the operand is True, it returns False, and if the operand is False, it returns True"
   ]
  },
  {
   "cell_type": "code",
   "execution_count": null,
   "id": "578a2391-4439-4971-98a0-85cdba3036fe",
   "metadata": {},
   "outputs": [],
   "source": []
  },
  {
   "cell_type": "markdown",
   "id": "61f905b1-7e79-4a2a-a274-8ef237bfc5f5",
   "metadata": {},
   "source": [
    "3.Make a list of each Boolean operator&#39;s truth tables (i.e. every possible combination of Boolean\n",
    "values for the operator and what it evaluate )."
   ]
  },
  {
   "cell_type": "markdown",
   "id": "f9234f3c-767b-4c22-aed5-c77f22a06e32",
   "metadata": {},
   "source": [
    "lOGICAL AND\n",
    "\n",
    "    X  Y  RESULT\n",
    "    \n",
    "    1  1   1\n",
    "    1  0   0\n",
    "    0  1   0\n",
    "    0  0   0\n",
    "    \n"
   ]
  },
  {
   "cell_type": "markdown",
   "id": "44e16853-4be9-4e01-b666-0b4985a03f2c",
   "metadata": {},
   "source": [
    "lOGICAL OR\n",
    "\n",
    "    X  Y  RESULT\n",
    "    \n",
    "    1  1   1\n",
    "    1  0   1\n",
    "    0  1   1\n",
    "    0  0   0\n"
   ]
  },
  {
   "cell_type": "markdown",
   "id": "56bc8760-6432-4036-a75d-51a5bf4924f5",
   "metadata": {},
   "source": [
    "LOGICAL NOT\n",
    "\n",
    "    X  RESULT\n",
    "    \n",
    "    0    1\n",
    "    1    0"
   ]
  },
  {
   "cell_type": "code",
   "execution_count": null,
   "id": "6bc27543-9dc4-4cc6-9e44-6662e4ca40b5",
   "metadata": {},
   "outputs": [],
   "source": []
  },
  {
   "cell_type": "markdown",
   "id": "7a36578f-ba0f-4a63-823b-d1760136da3d",
   "metadata": {},
   "source": [
    "4.Evaluate the values of the following expresstions"
   ]
  },
  {
   "cell_type": "markdown",
   "id": "1297fd51-94e2-405d-af69-2096f8d087de",
   "metadata": {},
   "source": [
    "1.(5 > 4) and (3 == 5)\n",
    "\n",
    "  1 and 0 = 0\n",
    "\n",
    "  Ans is False\n",
    "\n",
    "2.not (5 > 4)\n",
    "  \n",
    "  not (1) ==> False\n",
    "  \n",
    "3.(5 > 4) or (3 == 5)\n",
    "  \n",
    "  1 or 0\n",
    "  \n",
    "  Ans is True\n",
    "  \n",
    "4.not ((5 > 4) or (3 == 5))\n",
    "\n",
    "  not(1 or 0)\n",
    "  \n",
    "  not(1) ===> False\n",
    "  \n",
    "5.(True and True) and (True == False)\n",
    "\n",
    "  1 and 0 ==> False\n",
    "  \n",
    "6.(not False) or (not True)\n",
    "\n",
    "  1 or 0 ==> True"
   ]
  },
  {
   "cell_type": "code",
   "execution_count": null,
   "id": "218725f6-3a91-48d8-a2da-37a02aed1b26",
   "metadata": {},
   "outputs": [],
   "source": []
  },
  {
   "cell_type": "markdown",
   "id": "627bbaaf-c248-4a71-8c16-98ba1af7d66f",
   "metadata": {},
   "source": [
    "5. What are the six comparison operators?"
   ]
  },
  {
   "cell_type": "markdown",
   "id": "af76c378-b588-4059-bc5d-0b3735e555e1",
   "metadata": {},
   "source": [
    "\" == \": Checks if two values are equal.\n",
    "\n",
    "\" != \": Checks if two values are not equal.\n",
    "\n",
    "\" > \": Checks if the left operand is greater than the right operand.\n",
    "\n",
    "\" < \": Checks if the left operand is less than the right operand.\n",
    "\n",
    "\" >= \" : Checks if the left operand is greater than or equal to the right operand.\n",
    "\n",
    "\" <= \": Checks if the left operand is less than or equal to the right operand."
   ]
  },
  {
   "cell_type": "code",
   "execution_count": null,
   "id": "2c81a0de-54fe-4f44-8c0c-8087496fccc1",
   "metadata": {},
   "outputs": [],
   "source": []
  },
  {
   "cell_type": "markdown",
   "id": "1e3ef6fc-a146-4c41-a8ad-e7875da20529",
   "metadata": {},
   "source": [
    "6. How do you tell the difference between the equal to and assignment operators?Describe a condition and when you would use one."
   ]
  },
  {
   "cell_type": "markdown",
   "id": "1d027a0a-41e4-462c-aa8d-eb4aa5ff8b34",
   "metadata": {},
   "source": [
    "The equal to operator (==) is used to compare two values for equality, while the assignment operator (=) is used to assign a value to a variable."
   ]
  },
  {
   "cell_type": "code",
   "execution_count": 3,
   "id": "1a427e69-eb8c-4c4a-b0f7-261d107df7bf",
   "metadata": {},
   "outputs": [
    {
     "name": "stdout",
     "output_type": "stream",
     "text": [
      "x and y are not equal\n"
     ]
    }
   ],
   "source": [
    "x = 5    # Assigning the value 5 to the variable x using the assignment operator\n",
    "\n",
    "y = 10   # Assigning the value 10 to the variable y using the assignment operator\n",
    "\n",
    "if x == y:    # Checking if the values of x and y are equal using the equal to operator\n",
    "    print(\"x and y are equal\")\n",
    "else:\n",
    "    print(\"x and y are not equal\")"
   ]
  },
  {
   "cell_type": "code",
   "execution_count": null,
   "id": "a9e67958-c246-47f6-b5e7-3a94b6e8c2f4",
   "metadata": {},
   "outputs": [],
   "source": []
  },
  {
   "cell_type": "markdown",
   "id": "f823529f-7c96-48de-9220-995c0802af21",
   "metadata": {},
   "source": [
    "7.Identify the blocks in the given code"
   ]
  },
  {
   "cell_type": "code",
   "execution_count": 5,
   "id": "84252aa7-5705-46ce-b7d8-c691f40e5725",
   "metadata": {},
   "outputs": [],
   "source": [
    "spam = 0"
   ]
  },
  {
   "cell_type": "markdown",
   "id": "2e4bf8ff-b27a-4314-85d2-73a58899db54",
   "metadata": {},
   "source": [
    "Block 1:"
   ]
  },
  {
   "cell_type": "code",
   "execution_count": 6,
   "id": "0536662f-8e84-4c8d-8f6c-e50136fc6ec5",
   "metadata": {},
   "outputs": [],
   "source": [
    "if spam == 10:\n",
    "    print('eggs')"
   ]
  },
  {
   "cell_type": "markdown",
   "id": "ac2fae7d-62d6-4225-bbb5-3c2a81a454f8",
   "metadata": {},
   "source": [
    "Block 2:"
   ]
  },
  {
   "cell_type": "code",
   "execution_count": 7,
   "id": "39f2e823-b10a-4870-947d-dc66c795e2e1",
   "metadata": {},
   "outputs": [
    {
     "name": "stdout",
     "output_type": "stream",
     "text": [
      "ham\n"
     ]
    }
   ],
   "source": [
    "if spam > 5:\n",
    "    print('bacon')\n",
    "else:\n",
    "    print('ham')"
   ]
  },
  {
   "cell_type": "code",
   "execution_count": 8,
   "id": "62c74e66-72fa-4ad8-91dc-0a0a3f674372",
   "metadata": {},
   "outputs": [
    {
     "name": "stdout",
     "output_type": "stream",
     "text": [
      "spam\n",
      "spam\n"
     ]
    }
   ],
   "source": [
    "print('spam')\n",
    "print('spam')"
   ]
  },
  {
   "cell_type": "code",
   "execution_count": null,
   "id": "4f4f19bb-a641-4e46-9924-2ae11acf85b6",
   "metadata": {},
   "outputs": [],
   "source": []
  },
  {
   "cell_type": "markdown",
   "id": "352acd9b-ea76-46da-b053-1d091e2623aa",
   "metadata": {},
   "source": [
    "8. Write code that prints Hello if 1 is stored in spam, prints Howdy if 2 is stored in spam, and prints\n",
    "Greetings! if anything else is stored in spam."
   ]
  },
  {
   "cell_type": "code",
   "execution_count": 10,
   "id": "b07567e6-55d0-4e20-b58e-8df559ac1afc",
   "metadata": {},
   "outputs": [
    {
     "name": "stdin",
     "output_type": "stream",
     "text": [
      "enter the spam value 2\n"
     ]
    },
    {
     "name": "stdout",
     "output_type": "stream",
     "text": [
      "Howdy\n"
     ]
    }
   ],
   "source": [
    "spam = int(input(\"enter the spam value\"))\n",
    "\n",
    "if spam == 1:\n",
    "    print(\"Hello\")\n",
    "elif spam == 2:\n",
    "    print(\"Howdy\")\n",
    "else:\n",
    "    print(\"Greetings!\")\n"
   ]
  },
  {
   "cell_type": "code",
   "execution_count": null,
   "id": "21bc6226-8a2c-461c-b207-c589b428a366",
   "metadata": {},
   "outputs": [],
   "source": []
  },
  {
   "cell_type": "markdown",
   "id": "d390014d-d828-4134-8843-7011a563d249",
   "metadata": {},
   "source": [
    "9.If your programme is stuck in an endless loop, what keys you’ll press?"
   ]
  },
  {
   "cell_type": "markdown",
   "id": "cbfaa67c-2c3c-4de5-aee4-5cc8026d11ce",
   "metadata": {},
   "source": [
    "Ctrl + C"
   ]
  },
  {
   "cell_type": "code",
   "execution_count": null,
   "id": "a29d367a-b984-4d5c-9ec0-fc9a61992e7a",
   "metadata": {},
   "outputs": [],
   "source": []
  },
  {
   "cell_type": "markdown",
   "id": "6f1da7b9-1df8-4cc7-abc5-6f32d3328604",
   "metadata": {},
   "source": [
    "10. How can you tell the difference between break and continue?"
   ]
  },
  {
   "cell_type": "markdown",
   "id": "ef0c701b-ab31-4c3e-8844-1fb2840d6ddd",
   "metadata": {},
   "source": [
    "The break statement immediately terminates the loop and exits its execution.The continue statement skips the rest of the code within the loop for the current iteration and proceeds to the next iteration of the loop."
   ]
  },
  {
   "cell_type": "code",
   "execution_count": 16,
   "id": "9824edb1-3aca-40d0-b3c9-94dd5e517de2",
   "metadata": {},
   "outputs": [
    {
     "name": "stdout",
     "output_type": "stream",
     "text": [
      "1 2 "
     ]
    }
   ],
   "source": [
    "# break \n",
    "for i in range(1, 6):\n",
    "    if i == 3:\n",
    "        break\n",
    "    print(i,end = \" \")"
   ]
  },
  {
   "cell_type": "code",
   "execution_count": 17,
   "id": "4dc53514-60eb-4dda-bd9f-6a7c28b72058",
   "metadata": {},
   "outputs": [
    {
     "name": "stdout",
     "output_type": "stream",
     "text": [
      "1 2 4 5 "
     ]
    }
   ],
   "source": [
    "#continue\n",
    "for i in range(1, 6):\n",
    "    if i == 3:\n",
    "        continue\n",
    "    print(i, end =\" \")"
   ]
  },
  {
   "cell_type": "code",
   "execution_count": null,
   "id": "872b7ba7-c647-4bb9-bb42-e211fd4a27ad",
   "metadata": {},
   "outputs": [],
   "source": []
  },
  {
   "cell_type": "markdown",
   "id": "33fb7c49-f189-4b4e-bb4f-d1470bdc5625",
   "metadata": {},
   "source": [
    "11. In a for loop, what is the difference between range(10), range(0, 10), and range(0, 10, 1)?"
   ]
  },
  {
   "cell_type": "markdown",
   "id": "ee27097d-5443-48c2-832c-475a75dd4696",
   "metadata": {},
   "source": [
    "range(10), range(0, 10), and range(0, 10, 1) produce the same sequence of numbers from 0 to 9. The difference iss how the start, stop, and step values are specified"
   ]
  },
  {
   "cell_type": "code",
   "execution_count": null,
   "id": "b0d1703b-dede-41df-b173-47f44e8e6e22",
   "metadata": {},
   "outputs": [],
   "source": []
  },
  {
   "cell_type": "markdown",
   "id": "6f81906b-a9e7-4abc-b317-662490907b0a",
   "metadata": {},
   "source": [
    "Write a short program that prints the numbers 1 to 10 using a for loop. Then write an equivalent program that prints the numbers 1 to 10 using a while loop."
   ]
  },
  {
   "cell_type": "code",
   "execution_count": 21,
   "id": "6e0f882c-89a1-43dd-a839-33cf9f75cd30",
   "metadata": {},
   "outputs": [
    {
     "name": "stdout",
     "output_type": "stream",
     "text": [
      "for loop 1 \n",
      "for loop 2 \n",
      "for loop 3 \n",
      "for loop 4 \n",
      "for loop 5 \n",
      "for loop 6 \n",
      "for loop 7 \n",
      "for loop 8 \n",
      "for loop 9 \n",
      "for loop 10 \n",
      "\n",
      "while loop 1 \n",
      "while loop 2 \n",
      "while loop 3 \n",
      "while loop 4 \n",
      "while loop 5 \n",
      "while loop 6 \n",
      "while loop 7 \n",
      "while loop 8 \n",
      "while loop 9 \n",
      "while loop 10 \n"
     ]
    }
   ],
   "source": [
    "for i in range(1, 11):\n",
    "    print(f\"for loop {i} \")\n",
    "print()\n",
    "i = 1\n",
    "while i <= 10:\n",
    "    print(f\"while loop {i} \")\n",
    "    i += 1"
   ]
  },
  {
   "cell_type": "code",
   "execution_count": null,
   "id": "4434ae4e-3c76-4272-93f6-9909186139b6",
   "metadata": {},
   "outputs": [],
   "source": []
  },
  {
   "cell_type": "markdown",
   "id": "b7372441-833f-4db4-9c51-e1c5154c5767",
   "metadata": {},
   "source": [
    "13. If you had a function named bacon() inside a module named spam, how would you call it after importing spam?"
   ]
  },
  {
   "cell_type": "markdown",
   "id": "feb11d37-b0a4-434b-8404-ebadfe415e18",
   "metadata": {},
   "source": [
    "import spam\n",
    "\n",
    "spam.bacon()\n"
   ]
  },
  {
   "cell_type": "code",
   "execution_count": null,
   "id": "8bd99f6a-bdcb-41f6-8396-f20ca531f2a3",
   "metadata": {},
   "outputs": [],
   "source": []
  }
 ],
 "metadata": {
  "kernelspec": {
   "display_name": "Python 3 (ipykernel)",
   "language": "python",
   "name": "python3"
  },
  "language_info": {
   "codemirror_mode": {
    "name": "ipython",
    "version": 3
   },
   "file_extension": ".py",
   "mimetype": "text/x-python",
   "name": "python",
   "nbconvert_exporter": "python",
   "pygments_lexer": "ipython3",
   "version": "3.10.6"
  }
 },
 "nbformat": 4,
 "nbformat_minor": 5
}
